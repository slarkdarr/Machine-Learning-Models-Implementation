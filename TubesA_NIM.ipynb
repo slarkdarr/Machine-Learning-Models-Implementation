{
 "cells": [
  {
   "cell_type": "code",
   "execution_count": 2,
   "metadata": {
    "id": "f21PRg_RKh0W"
   },
   "outputs": [],
   "source": [
    "# Import modules\n",
    "import pandas as pd\n",
    "import matplotlib.pyplot as plt\n",
    "import numpy as np"
   ]
  },
  {
   "cell_type": "code",
   "execution_count": 3,
   "metadata": {
    "id": "ZiWfMZQfMkVd"
   },
   "outputs": [],
   "source": [
    "# Fungsi-fungsi aktivasi\n",
    "def linear(x):\n",
    "  return x\n",
    "\n",
    "def sigmoid(x):\n",
    "  return 1 / (1 + np.exp(-x))\n",
    "\n",
    "def relu(x):\n",
    "  return np.maximum(0, x)\n",
    "\n",
    "def softmax(x):\n",
    "  e = np.exp(x)\n",
    "  return e / np.sum(e)\n",
    "\n",
    "activation_function = {\n",
    "    \"Linear\": linear,\n",
    "    \"Sigmoid\": sigmoid,\n",
    "    \"ReLU\": relu,\n",
    "    \"Softmax\": softmax,\n",
    "}"
   ]
  },
  {
   "cell_type": "code",
   "execution_count": 106,
   "metadata": {
    "id": "igZEzwshQzRh"
   },
   "outputs": [],
   "source": [
    "class Layer():\n",
    "  def __init__(self, weight, bias, activation):\n",
    "    if activation not in ['Linear', 'Sigmoid', 'ReLU', 'Softmax']:\n",
    "          raise NotImplementedError(\"Layer activation `%s` is not implemented.\" \n",
    "                                      % activation)\n",
    "    self.weight = weight\n",
    "    self.bias = bias\n",
    "    self.activation = activation\n",
    "\n",
    "  def forward_propagation(self, input):\n",
    "    result = np.dot(input , self.weight) + self.bias\n",
    "    return activation_function[self.activation](result)\n",
    "\n",
    "class NeuralNetwork():\n",
    "  def __init__(self):\n",
    "    self.layers = []\n",
    "  \n",
    "  def summary(self):\n",
    "    print(\"Jumlah layer: \", len(self.layers))\n",
    "    for i, layer in enumerate(self.layers):\n",
    "      print(\"============================================================\")\n",
    "      print('Layer {} (Activation: \"{}\", Units: {})'\n",
    "      .format(i+1, layer.activation, len(layer.weight)))\n",
    "      \n",
    "      print(\"Weight:\")\n",
    "      print(np.array(layer.weight))\n",
    "      \n",
    "      print(\"Bias:\")\n",
    "      print(np.array(layer.bias))\n",
    "    print(\"============================================================\")\n",
    "\n",
    "  def add(self, layer):\n",
    "    self.layers.append(layer)\n",
    "  \n",
    "  def predict(self, input):\n",
    "    h = input\n",
    "    for layer in (self.layers):\n",
    "        h = layer.forward_propagation(input)\n",
    "    print(h)\n",
    "        \n",
    "#   def abaikan(self, input):\n",
    "#     h = input\n",
    "#     for layer in (self.layers):\n",
    "#         print(\"h awal: \",h)\n",
    "#         h = layer.forward_propagation(input)\n",
    "#         print(\"weight:\", layer.weight)\n",
    "#         print(\"bias:\", layer.bias)\n",
    "#         print(\"activation:\", layer.activation)\n",
    "#         print(\"fungsi aktivasi: \", layer.forward_propagation(input))\n",
    "#         print(\"h akhir: \", h)\n",
    "#         print(\"------------------------------\")\n",
    "        \n",
    "\n",
    "  def load_file(self, filename):\n",
    "    '''\n",
    "    File format\n",
    "    <depth>\n",
    "    <units> <activation function>\n",
    "    <weight0> \n",
    "    <bias0>\n",
    "    '''\n",
    "    with open(filename, 'r') as file:\n",
    "      depth = int(file.readline().strip())\n",
    "      for i in range (depth):\n",
    "        line = file.readline().strip().split()\n",
    "        unit = int(line[0])\n",
    "        activation = line[1]\n",
    "\n",
    "        # Weight Matrice\n",
    "        weight = []\n",
    "        for j in range(unit):\n",
    "          weight.append(list(map(float, file.readline().strip().split())))\n",
    "\n",
    "        # Bias Matrice\n",
    "        bias = list(map(float, file.readline().strip().split()))\n",
    "        \n",
    "\n",
    "        # Add layer\n",
    "        layer = Layer(weight, bias, activation)\n",
    "        self.add(layer)\n",
    "      \n",
    "      # End of file\n",
    "    # Close file"
   ]
  },
  {
   "cell_type": "code",
   "execution_count": 107,
   "metadata": {
    "id": "JFyzxJGRM6Hs"
   },
   "outputs": [],
   "source": [
    "# XOR Sigmoid Model dan XOR Relu-Linear Model\n",
    "model = NeuralNetwork()\n",
    "filename = 'xor_sigmoid.txt'\n",
    "model.load_file(filename)"
   ]
  },
  {
   "cell_type": "code",
   "execution_count": 108,
   "metadata": {
    "colab": {
     "base_uri": "https://localhost:8080/"
    },
    "id": "OLLk7YS54k6T",
    "outputId": "f14522fe-8472-4256-bb2b-65cc2c048804"
   },
   "outputs": [
    {
     "name": "stdout",
     "output_type": "stream",
     "text": [
      "Jumlah layer:  2\n",
      "============================================================\n",
      "Layer 1 (Activation: \"Sigmoid\", Units: 2)\n",
      "Weight:\n",
      "[[ 20.  20.]\n",
      " [-20. -20.]]\n",
      "Bias:\n",
      "[-10.  30.]\n",
      "============================================================\n",
      "Layer 2 (Activation: \"Sigmoid\", Units: 1)\n",
      "Weight:\n",
      "[[20. 20.]]\n",
      "Bias:\n",
      "[-30.]\n",
      "============================================================\n"
     ]
    }
   ],
   "source": [
    "model.summary()"
   ]
  },
  {
   "cell_type": "code",
   "execution_count": 114,
   "metadata": {},
   "outputs": [
    {
     "name": "stdout",
     "output_type": "stream",
     "text": [
      "[[4.53978687e-05 4.53978687e-05]]\n"
     ]
    }
   ],
   "source": [
    "model.predict(1)"
   ]
  },
  {
   "cell_type": "code",
   "execution_count": null,
   "metadata": {},
   "outputs": [],
   "source": []
  },
  {
   "cell_type": "code",
   "execution_count": null,
   "metadata": {},
   "outputs": [],
   "source": []
  }
 ],
 "metadata": {
  "colab": {
   "collapsed_sections": [],
   "name": "TubesA_NIM.ipynb",
   "provenance": []
  },
  "kernelspec": {
   "display_name": "Python 3 (ipykernel)",
   "language": "python",
   "name": "python3"
  },
  "language_info": {
   "codemirror_mode": {
    "name": "ipython",
    "version": 3
   },
   "file_extension": ".py",
   "mimetype": "text/x-python",
   "name": "python",
   "nbconvert_exporter": "python",
   "pygments_lexer": "ipython3",
   "version": "3.9.7"
  }
 },
 "nbformat": 4,
 "nbformat_minor": 1
}
